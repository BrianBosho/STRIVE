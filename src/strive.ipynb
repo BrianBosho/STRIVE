{
 "cells": [
  {
   "cell_type": "code",
   "execution_count": 3,
   "metadata": {},
   "outputs": [],
   "source": [
    "import torch"
   ]
  },
  {
   "cell_type": "code",
   "execution_count": 1,
   "metadata": {},
   "outputs": [],
   "source": [
    "from models.traffic_model import TrafficModel"
   ]
  },
  {
   "cell_type": "code",
   "execution_count": null,
   "metadata": {},
   "outputs": [],
   "source": [
    "#  def __init__(self, npast, nfuture, map_obs_size_pix, nclasses,\n",
    "#                  map_feat_size=64,\n",
    "#                  past_feat_size=64,\n",
    "#                  future_feat_size=64,\n",
    "#                  latent_size=32,\n",
    "#                  output_bicycle=True,\n",
    "#                  traj_encoder='gru',\n",
    "#                  conv_channel_in=4,\n",
    "#                  conv_kernel_list=[7, 5, 5, 3, 3, 3],\n",
    "#                  conv_stride_list=[2, 2, 2, 2, 2, 2],\n",
    "#                  conv_filter_list=[16, 32, 64, 64, 128, 128]\n",
    "#                  ):"
   ]
  },
  {
   "cell_type": "code",
   "execution_count": null,
   "metadata": {},
   "outputs": [],
   "source": [
    "model = TrafficModel(5, 5, cfg.map_obs_size_pix, len(test_dataset.categories),                    \n",
    "                    ).to(device)"
   ]
  }
 ],
 "metadata": {
  "kernelspec": {
   "display_name": "strive_env",
   "language": "python",
   "name": "python3"
  },
  "language_info": {
   "codemirror_mode": {
    "name": "ipython",
    "version": 3
   },
   "file_extension": ".py",
   "mimetype": "text/x-python",
   "name": "python",
   "nbconvert_exporter": "python",
   "pygments_lexer": "ipython3",
   "version": "3.6.9"
  }
 },
 "nbformat": 4,
 "nbformat_minor": 2
}
